{
  "metadata": {
    "kernelspec": {
      "name": "python",
      "display_name": "Pyolite",
      "language": "python"
    },
    "language_info": {
      "codemirror_mode": {
        "name": "python",
        "version": 3
      },
      "file_extension": ".py",
      "mimetype": "text/x-python",
      "name": "python",
      "nbconvert_exporter": "python",
      "pygments_lexer": "ipython3",
      "version": "3.8"
    }
  },
  "nbformat_minor": 4,
  "nbformat": 4,
  "cells": [
    {
      "cell_type": "markdown",
      "source": "<center>\n    <img src=\"https://s3-api.us-geo.objectstorage.softlayer.net/cf-courses-data/CognitiveClass/Logos/organization_logo/organization_logo.png\" width=\"300\" alt=\"cognitiveclass.ai logo\"  />\n</center>\n",
      "metadata": {}
    },
    {
      "cell_type": "markdown",
      "source": "#### Add your code below following the instructions given in the course\n",
      "metadata": {}
    },
    {
      "cell_type": "markdown",
      "source": "## My Jupyter Notebook on IBM Watson Studio",
      "metadata": {}
    },
    {
      "cell_type": "markdown",
      "source": "__Didar Sarsenov__",
      "metadata": {}
    },
    {
      "cell_type": "markdown",
      "source": "Research Analyst",
      "metadata": {}
    },
    {
      "cell_type": "markdown",
      "source": "_I am interested in data science because my job requires me to know it_",
      "metadata": {}
    },
    {
      "cell_type": "markdown",
      "source": "### Below should print 'Hello Coldplay'",
      "metadata": {}
    },
    {
      "cell_type": "code",
      "source": "print(\"Hello Coldplay\")",
      "metadata": {
        "trusted": true
      },
      "execution_count": 14,
      "outputs": [
        {
          "name": "stdout",
          "text": "Hello Coldplay\n",
          "output_type": "stream"
        }
      ]
    },
    {
      "cell_type": "markdown",
      "source": "[My favourite video](https://www.youtube.com/watch?v=-ZvsGmYKhcU)            \n\n\n###### The list of my favourite songs:\n  *  Viva La Vida\n  *  Hymn for weekend\n\n##### _Concerts statistics_\n\n| City | Tickets Sold | Months |\n| --- | --- | --- |\n| Boston | 1200 | July\n| New York | 2200 | September\n| London | 2000 | December\n",
      "metadata": {}
    },
    {
      "cell_type": "code",
      "source": "",
      "metadata": {},
      "execution_count": null,
      "outputs": []
    }
  ]
}